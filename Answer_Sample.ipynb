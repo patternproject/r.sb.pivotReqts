{
  "nbformat": 4,
  "nbformat_minor": 0,
  "metadata": {
    "colab": {
      "name": "Answer Sample.ipynb",
      "provenance": [],
      "authorship_tag": "ABX9TyNq3XACPx47zxJ06Tp6hkZ9",
      "include_colab_link": true
    },
    "kernelspec": {
      "name": "ir",
      "display_name": "R"
    },
    "language_info": {
      "name": "R"
    }
  },
  "cells": [
    {
      "cell_type": "markdown",
      "metadata": {
        "id": "view-in-github",
        "colab_type": "text"
      },
      "source": [
        "<a href=\"https://colab.research.google.com/github/patternproject/r.sb.pivotReqts/blob/main/Answer_Sample.ipynb\" target=\"_parent\"><img src=\"https://colab.research.google.com/assets/colab-badge.svg\" alt=\"Open In Colab\"/></a>"
      ]
    },
    {
      "cell_type": "markdown",
      "metadata": {
        "id": "z91GXKM-KdP7"
      },
      "source": [
        "# Read Me\n",
        "\n",
        "### This sheet does nothing, more than creating a data frame (required) which I posted on the RStudio Help Website to get more help\n",
        "\n",
        "### Previous post (https://community.rstudio.com/t/pivot-or-separate/111225) got the count of customer, this is to ask for names of all the customers asking that reqt"
      ]
    },
    {
      "cell_type": "code",
      "metadata": {
        "id": "Tw45l_VKIrNk"
      },
      "source": [
        "reqts <- c('beauty soap', 'detergent', 'hair shampoo', 'hand and body sanitizer' )"
      ],
      "execution_count": 1,
      "outputs": []
    },
    {
      "cell_type": "code",
      "metadata": {
        "id": "XImfdjmdJS5S"
      },
      "source": [
        "customer_count <- c(1,1,2,1)"
      ],
      "execution_count": 3,
      "outputs": []
    },
    {
      "cell_type": "code",
      "metadata": {
        "id": "qVyL--imJVY6"
      },
      "source": [
        "customer_name <- c('Alpha','Beta','Alpha,Beta','Beta')"
      ],
      "execution_count": 4,
      "outputs": []
    },
    {
      "cell_type": "code",
      "metadata": {
        "id": "QvAzdNsSJhnF"
      },
      "source": [
        "df_  <- data.frame(reqts = reqts, customer_count = customer_count, customer_name = customer_name)"
      ],
      "execution_count": 6,
      "outputs": []
    },
    {
      "cell_type": "code",
      "metadata": {
        "colab": {
          "base_uri": "https://localhost:8080/",
          "height": 220
        },
        "id": "dcDmet17JpZg",
        "outputId": "27a7f64c-982d-4af2-cbf3-f86c024175ad"
      },
      "source": [
        "df_"
      ],
      "execution_count": 7,
      "outputs": [
        {
          "output_type": "display_data",
          "data": {
            "text/plain": [
              "  reqts                   customer_count customer_name\n",
              "1 beauty soap             1              Alpha        \n",
              "2 detergent               1              Beta         \n",
              "3 hair shampoo            2              Alpha,Beta   \n",
              "4 hand and body sanitizer 1              Beta         "
            ],
            "text/latex": "A data.frame: 4 × 3\n\\begin{tabular}{lll}\n reqts & customer\\_count & customer\\_name\\\\\n <chr> & <dbl> & <chr>\\\\\n\\hline\n\t beauty soap             & 1 & Alpha     \\\\\n\t detergent               & 1 & Beta      \\\\\n\t hair shampoo            & 2 & Alpha,Beta\\\\\n\t hand and body sanitizer & 1 & Beta      \\\\\n\\end{tabular}\n",
            "text/markdown": "\nA data.frame: 4 × 3\n\n| reqts &lt;chr&gt; | customer_count &lt;dbl&gt; | customer_name &lt;chr&gt; |\n|---|---|---|\n| beauty soap             | 1 | Alpha      |\n| detergent               | 1 | Beta       |\n| hair shampoo            | 2 | Alpha,Beta |\n| hand and body sanitizer | 1 | Beta       |\n\n",
            "text/html": [
              "<table class=\"dataframe\">\n",
              "<caption>A data.frame: 4 × 3</caption>\n",
              "<thead>\n",
              "\t<tr><th scope=col>reqts</th><th scope=col>customer_count</th><th scope=col>customer_name</th></tr>\n",
              "\t<tr><th scope=col>&lt;chr&gt;</th><th scope=col>&lt;dbl&gt;</th><th scope=col>&lt;chr&gt;</th></tr>\n",
              "</thead>\n",
              "<tbody>\n",
              "\t<tr><td>beauty soap            </td><td>1</td><td>Alpha     </td></tr>\n",
              "\t<tr><td>detergent              </td><td>1</td><td>Beta      </td></tr>\n",
              "\t<tr><td>hair shampoo           </td><td>2</td><td>Alpha,Beta</td></tr>\n",
              "\t<tr><td>hand and body sanitizer</td><td>1</td><td>Beta      </td></tr>\n",
              "</tbody>\n",
              "</table>\n"
            ]
          },
          "metadata": {
            "tags": []
          }
        }
      ]
    },
    {
      "cell_type": "code",
      "metadata": {
        "colab": {
          "base_uri": "https://localhost:8080/"
        },
        "id": "9FHk_vvXJuEV",
        "outputId": "a64c64db-6c0d-4ecd-8559-f647e9d53d83"
      },
      "source": [
        "dput(df_)"
      ],
      "execution_count": 8,
      "outputs": [
        {
          "output_type": "stream",
          "text": [
            "structure(list(reqts = c(\"beauty soap\", \"detergent\", \"hair shampoo\", \n",
            "\"hand and body sanitizer\"), customer_count = c(1, 1, 2, 1), customer_name = c(\"Alpha\", \n",
            "\"Beta\", \"Alpha,Beta\", \"Beta\")), class = \"data.frame\", row.names = c(NA, \n",
            "-4L))\n"
          ],
          "name": "stdout"
        }
      ]
    },
    {
      "cell_type": "code",
      "metadata": {
        "id": "8aMvL8ybJvpt"
      },
      "source": [
        ""
      ],
      "execution_count": null,
      "outputs": []
    }
  ]
}