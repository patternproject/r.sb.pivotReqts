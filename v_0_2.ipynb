{
  "nbformat": 4,
  "nbformat_minor": 0,
  "metadata": {
    "colab": {
      "name": "v_0_2.ipynb",
      "provenance": [],
      "include_colab_link": true
    },
    "kernelspec": {
      "name": "ir",
      "display_name": "R"
    },
    "language_info": {
      "name": "R"
    }
  },
  "cells": [
    {
      "cell_type": "markdown",
      "metadata": {
        "id": "view-in-github",
        "colab_type": "text"
      },
      "source": [
        "<a href=\"https://colab.research.google.com/github/patternproject/r.sb.pivotReqts/blob/main/v_0_2.ipynb\" target=\"_parent\"><img src=\"https://colab.research.google.com/assets/colab-badge.svg\" alt=\"Open In Colab\"/></a>"
      ]
    },
    {
      "cell_type": "markdown",
      "metadata": {
        "id": "sBlbxI_ui0jm"
      },
      "source": [
        "# Read Me\n",
        "\n",
        "### At SB we are collecting requirements coming in from each customer. The requirements prioritization process requires knowing how many customers are asking for each\n",
        "\n",
        "### This code does a kind-of-pivot\n",
        "\n",
        "### See here for details and reference\n",
        "\n",
        "#### https://community.rstudio.com/t/pivot-or-separate/111225/4"
      ]
    },
    {
      "cell_type": "markdown",
      "metadata": {
        "id": "NmIDW-Kjtpq1"
      },
      "source": [
        "# Version History\n",
        "\n",
        "* v1 >> Gives customer count for each requirement\n",
        "\n",
        "* v2 >> Gives customer name along with the customer count"
      ]
    },
    {
      "cell_type": "code",
      "metadata": {
        "colab": {
          "base_uri": "https://localhost:8080/"
        },
        "id": "h_d4rX-Ayt1u",
        "outputId": "4acc7527-6844-4f0e-80c8-fb839ffd1dce"
      },
      "source": [
        "library(tidyverse)"
      ],
      "execution_count": 1,
      "outputs": [
        {
          "output_type": "stream",
          "text": [
            "Warning message in system(\"timedatectl\", intern = TRUE):\n",
            "“running command 'timedatectl' had status 1”\n",
            "── \u001b[1mAttaching packages\u001b[22m ─────────────────────────────────────── tidyverse 1.3.1 ──\n",
            "\n",
            "\u001b[32m✔\u001b[39m \u001b[34mggplot2\u001b[39m 3.3.5     \u001b[32m✔\u001b[39m \u001b[34mpurrr  \u001b[39m 0.3.4\n",
            "\u001b[32m✔\u001b[39m \u001b[34mtibble \u001b[39m 3.1.2     \u001b[32m✔\u001b[39m \u001b[34mdplyr  \u001b[39m 1.0.7\n",
            "\u001b[32m✔\u001b[39m \u001b[34mtidyr  \u001b[39m 1.1.3     \u001b[32m✔\u001b[39m \u001b[34mstringr\u001b[39m 1.4.0\n",
            "\u001b[32m✔\u001b[39m \u001b[34mreadr  \u001b[39m 1.4.0     \u001b[32m✔\u001b[39m \u001b[34mforcats\u001b[39m 0.5.1\n",
            "\n",
            "── \u001b[1mConflicts\u001b[22m ────────────────────────────────────────── tidyverse_conflicts() ──\n",
            "\u001b[31m✖\u001b[39m \u001b[34mdplyr\u001b[39m::\u001b[32mfilter()\u001b[39m masks \u001b[34mstats\u001b[39m::filter()\n",
            "\u001b[31m✖\u001b[39m \u001b[34mdplyr\u001b[39m::\u001b[32mlag()\u001b[39m    masks \u001b[34mstats\u001b[39m::lag()\n",
            "\n"
          ],
          "name": "stderr"
        }
      ]
    },
    {
      "cell_type": "code",
      "metadata": {
        "colab": {
          "base_uri": "https://localhost:8080/"
        },
        "id": "sMHPNxrTy9yO",
        "outputId": "b97b9610-8060-4dd3-c0d4-1cf54c6f98d2"
      },
      "source": [
        "df_1 = read_csv('/content/OKR - 2021 Q2 - v 2 8 0 - Features.csv',col_names = TRUE)"
      ],
      "execution_count": 2,
      "outputs": [
        {
          "output_type": "stream",
          "text": [
            "Warning message:\n",
            "“Missing column names filled in: 'X3' [3]”\n",
            "\n",
            "\u001b[36m──\u001b[39m \u001b[1m\u001b[1mColumn specification\u001b[1m\u001b[22m \u001b[36m────────────────────────────────────────────────────────\u001b[39m\n",
            "cols(\n",
            "  Customer = \u001b[31mcol_character()\u001b[39m,\n",
            "  Comment = \u001b[31mcol_character()\u001b[39m,\n",
            "  X3 = \u001b[33mcol_logical()\u001b[39m\n",
            ")\n",
            "\n",
            "\n"
          ],
          "name": "stderr"
        }
      ]
    },
    {
      "cell_type": "code",
      "metadata": {
        "id": "9oXwYE-YzD9G"
      },
      "source": [
        "df_1 %>% select(Customer,Comment) -> df_2"
      ],
      "execution_count": 3,
      "outputs": []
    },
    {
      "cell_type": "code",
      "metadata": {
        "colab": {
          "base_uri": "https://localhost:8080/",
          "height": 282
        },
        "id": "a6PtSYkzzJc2",
        "outputId": "f88e1738-c66b-445e-81f7-f7b4e604b98f"
      },
      "source": [
        "head(df_2)"
      ],
      "execution_count": 4,
      "outputs": [
        {
          "output_type": "display_data",
          "data": {
            "text/plain": [
              "  Customer       \n",
              "1 Aromaish       \n",
              "2 Rembrandts     \n",
              "3 Abib Mart      \n",
              "4 Lok Virsa      \n",
              "5 Haji Iftikhar  \n",
              "6 Muhammadi Store\n",
              "  Comment                                                                                   \n",
              "1 Receipts, Change in Customer Creation Form, Reflect Delivery Charges in Sales Report, Bugs\n",
              "2 Receipts, API Change, Barcode Printing                                                    \n",
              "3 Inventory Performance, Bugs                                                               \n",
              "4 Cashier Access to Reports                                                                 \n",
              "5 No requirements, OnBoarding in progress                                                   \n",
              "6 Barcode Printing, Weighing Scale Integration                                              "
            ],
            "text/latex": "A tibble: 6 × 2\n\\begin{tabular}{ll}\n Customer & Comment\\\\\n <chr> & <chr>\\\\\n\\hline\n\t Aromaish        & Receipts, Change in Customer Creation Form, Reflect Delivery Charges in Sales Report, Bugs\\\\\n\t Rembrandts      & Receipts, API Change, Barcode Printing                                                    \\\\\n\t Abib Mart       & Inventory Performance, Bugs                                                               \\\\\n\t Lok Virsa       & Cashier Access to Reports                                                                 \\\\\n\t Haji Iftikhar   & No requirements, OnBoarding in progress                                                   \\\\\n\t Muhammadi Store & Barcode Printing, Weighing Scale Integration                                              \\\\\n\\end{tabular}\n",
            "text/markdown": "\nA tibble: 6 × 2\n\n| Customer &lt;chr&gt; | Comment &lt;chr&gt; |\n|---|---|\n| Aromaish        | Receipts, Change in Customer Creation Form, Reflect Delivery Charges in Sales Report, Bugs |\n| Rembrandts      | Receipts, API Change, Barcode Printing                                                     |\n| Abib Mart       | Inventory Performance, Bugs                                                                |\n| Lok Virsa       | Cashier Access to Reports                                                                  |\n| Haji Iftikhar   | No requirements, OnBoarding in progress                                                    |\n| Muhammadi Store | Barcode Printing, Weighing Scale Integration                                               |\n\n",
            "text/html": [
              "<table class=\"dataframe\">\n",
              "<caption>A tibble: 6 × 2</caption>\n",
              "<thead>\n",
              "\t<tr><th scope=col>Customer</th><th scope=col>Comment</th></tr>\n",
              "\t<tr><th scope=col>&lt;chr&gt;</th><th scope=col>&lt;chr&gt;</th></tr>\n",
              "</thead>\n",
              "<tbody>\n",
              "\t<tr><td>Aromaish       </td><td>Receipts, Change in Customer Creation Form, Reflect Delivery Charges in Sales Report, Bugs</td></tr>\n",
              "\t<tr><td>Rembrandts     </td><td>Receipts, API Change, Barcode Printing                                                    </td></tr>\n",
              "\t<tr><td>Abib Mart      </td><td>Inventory Performance, Bugs                                                               </td></tr>\n",
              "\t<tr><td>Lok Virsa      </td><td>Cashier Access to Reports                                                                 </td></tr>\n",
              "\t<tr><td>Haji Iftikhar  </td><td>No requirements, OnBoarding in progress                                                   </td></tr>\n",
              "\t<tr><td>Muhammadi Store</td><td>Barcode Printing, Weighing Scale Integration                                              </td></tr>\n",
              "</tbody>\n",
              "</table>\n"
            ]
          },
          "metadata": {
            "tags": []
          }
        }
      ]
    },
    {
      "cell_type": "code",
      "metadata": {
        "colab": {
          "base_uri": "https://localhost:8080/",
          "height": 874
        },
        "id": "yQVkeFzjzLNO",
        "outputId": "3ece04c7-d07f-4320-9ec9-17381c4d2f9e"
      },
      "source": [
        "df_2 %>% \n",
        "    separate_rows(Comment, sep = \",\\\\s\") %>% \n",
        "    group_by(Comment) %>% \n",
        "    summarise(customer_count = n(),\n",
        "              customer_name = paste(unique(Customer), collapse = \", \")) %>%\n",
        "    drop_na(Comment) "
      ],
      "execution_count": 11,
      "outputs": [
        {
          "output_type": "display_data",
          "data": {
            "text/plain": [
              "   Comment                                                   customer_count\n",
              "1  API Change                                                1             \n",
              "2  Barcode Printing                                          2             \n",
              "3  Bugs                                                      2             \n",
              "4  Business Expenses                                         1             \n",
              "5  Cashier Access to Reports                                 1             \n",
              "6  Change in Customer Creation Form                          1             \n",
              "7  Configurable Time for Order Cancellation                  1             \n",
              "8  Hardware purchased which is faulty and needs to be fixed. 1             \n",
              "9  Inventory Performance                                     1             \n",
              "10 LOV for Order Cancellation                                1             \n",
              "11 Mock Website                                              1             \n",
              "12 No requirements                                           1             \n",
              "13 Non-Saleable Item                                         1             \n",
              "14 ODMS Integration                                          1             \n",
              "15 OnBoarding in progress                                    1             \n",
              "16 Order Management                                          1             \n",
              "17 Product Variants                                          1             \n",
              "18 Receipts                                                  2             \n",
              "19 Recipe Management                                         3             \n",
              "20 Reflect Delivery Charges in Sales Report                  1             \n",
              "21 Sale based on Product Weight                              1             \n",
              "22 Scoping exercise in progress                              1             \n",
              "23 Stock Issuance + Multi Branch                             2             \n",
              "24 Weighing Scale Integration                                3             \n",
              "   customer_name                                         \n",
              "1  Rembrandts                                            \n",
              "2  Rembrandts, Muhammadi Store                           \n",
              "3  Aromaish, Abib Mart                                   \n",
              "4  Ghania Traders                                        \n",
              "5  Lok Virsa                                             \n",
              "6  Aromaish                                              \n",
              "7  Mozarella 24/7                                        \n",
              "8  Mansehra Steel                                        \n",
              "9  Abib Mart                                             \n",
              "10 Mozarella 24/7                                        \n",
              "11 Mozarella 24/7                                        \n",
              "12 Haji Iftikhar                                         \n",
              "13 ShikarPuri Bakers                                     \n",
              "14 NewYorker                                             \n",
              "15 Haji Iftikhar                                         \n",
              "16 Ghania Traders                                        \n",
              "17 Ghania Traders                                        \n",
              "18 Aromaish, Rembrandts                                  \n",
              "19 ShikarPuri Bakers, NewYorker, Ghania Traders          \n",
              "20 Aromaish                                              \n",
              "21 ShikarPuri Bakers                                     \n",
              "22 Radiant Group                                         \n",
              "23 ShikarPuri Bakers, NewYorker                          \n",
              "24 Muhammadi Store, ShikarPuri Bakers, Karachi Murgh Shop"
            ],
            "text/latex": "A tibble: 24 × 3\n\\begin{tabular}{lll}\n Comment & customer\\_count & customer\\_name\\\\\n <chr> & <int> & <chr>\\\\\n\\hline\n\t API Change                                                & 1 & Rembrandts                                            \\\\\n\t Barcode Printing                                          & 2 & Rembrandts, Muhammadi Store                           \\\\\n\t Bugs                                                      & 2 & Aromaish, Abib Mart                                   \\\\\n\t Business Expenses                                         & 1 & Ghania Traders                                        \\\\\n\t Cashier Access to Reports                                 & 1 & Lok Virsa                                             \\\\\n\t Change in Customer Creation Form                          & 1 & Aromaish                                              \\\\\n\t Configurable Time for Order Cancellation                  & 1 & Mozarella 24/7                                        \\\\\n\t Hardware purchased which is faulty and needs to be fixed. & 1 & Mansehra Steel                                        \\\\\n\t Inventory Performance                                     & 1 & Abib Mart                                             \\\\\n\t LOV for Order Cancellation                                & 1 & Mozarella 24/7                                        \\\\\n\t Mock Website                                              & 1 & Mozarella 24/7                                        \\\\\n\t No requirements                                           & 1 & Haji Iftikhar                                         \\\\\n\t Non-Saleable Item                                         & 1 & ShikarPuri Bakers                                     \\\\\n\t ODMS Integration                                          & 1 & NewYorker                                             \\\\\n\t OnBoarding in progress                                    & 1 & Haji Iftikhar                                         \\\\\n\t Order Management                                          & 1 & Ghania Traders                                        \\\\\n\t Product Variants                                          & 1 & Ghania Traders                                        \\\\\n\t Receipts                                                  & 2 & Aromaish, Rembrandts                                  \\\\\n\t Recipe Management                                         & 3 & ShikarPuri Bakers, NewYorker, Ghania Traders          \\\\\n\t Reflect Delivery Charges in Sales Report                  & 1 & Aromaish                                              \\\\\n\t Sale based on Product Weight                              & 1 & ShikarPuri Bakers                                     \\\\\n\t Scoping exercise in progress                              & 1 & Radiant Group                                         \\\\\n\t Stock Issuance + Multi Branch                             & 2 & ShikarPuri Bakers, NewYorker                          \\\\\n\t Weighing Scale Integration                                & 3 & Muhammadi Store, ShikarPuri Bakers, Karachi Murgh Shop\\\\\n\\end{tabular}\n",
            "text/markdown": "\nA tibble: 24 × 3\n\n| Comment &lt;chr&gt; | customer_count &lt;int&gt; | customer_name &lt;chr&gt; |\n|---|---|---|\n| API Change                                                | 1 | Rembrandts                                             |\n| Barcode Printing                                          | 2 | Rembrandts, Muhammadi Store                            |\n| Bugs                                                      | 2 | Aromaish, Abib Mart                                    |\n| Business Expenses                                         | 1 | Ghania Traders                                         |\n| Cashier Access to Reports                                 | 1 | Lok Virsa                                              |\n| Change in Customer Creation Form                          | 1 | Aromaish                                               |\n| Configurable Time for Order Cancellation                  | 1 | Mozarella 24/7                                         |\n| Hardware purchased which is faulty and needs to be fixed. | 1 | Mansehra Steel                                         |\n| Inventory Performance                                     | 1 | Abib Mart                                              |\n| LOV for Order Cancellation                                | 1 | Mozarella 24/7                                         |\n| Mock Website                                              | 1 | Mozarella 24/7                                         |\n| No requirements                                           | 1 | Haji Iftikhar                                          |\n| Non-Saleable Item                                         | 1 | ShikarPuri Bakers                                      |\n| ODMS Integration                                          | 1 | NewYorker                                              |\n| OnBoarding in progress                                    | 1 | Haji Iftikhar                                          |\n| Order Management                                          | 1 | Ghania Traders                                         |\n| Product Variants                                          | 1 | Ghania Traders                                         |\n| Receipts                                                  | 2 | Aromaish, Rembrandts                                   |\n| Recipe Management                                         | 3 | ShikarPuri Bakers, NewYorker, Ghania Traders           |\n| Reflect Delivery Charges in Sales Report                  | 1 | Aromaish                                               |\n| Sale based on Product Weight                              | 1 | ShikarPuri Bakers                                      |\n| Scoping exercise in progress                              | 1 | Radiant Group                                          |\n| Stock Issuance + Multi Branch                             | 2 | ShikarPuri Bakers, NewYorker                           |\n| Weighing Scale Integration                                | 3 | Muhammadi Store, ShikarPuri Bakers, Karachi Murgh Shop |\n\n",
            "text/html": [
              "<table class=\"dataframe\">\n",
              "<caption>A tibble: 24 × 3</caption>\n",
              "<thead>\n",
              "\t<tr><th scope=col>Comment</th><th scope=col>customer_count</th><th scope=col>customer_name</th></tr>\n",
              "\t<tr><th scope=col>&lt;chr&gt;</th><th scope=col>&lt;int&gt;</th><th scope=col>&lt;chr&gt;</th></tr>\n",
              "</thead>\n",
              "<tbody>\n",
              "\t<tr><td>API Change                                               </td><td>1</td><td>Rembrandts                                            </td></tr>\n",
              "\t<tr><td>Barcode Printing                                         </td><td>2</td><td>Rembrandts, Muhammadi Store                           </td></tr>\n",
              "\t<tr><td>Bugs                                                     </td><td>2</td><td>Aromaish, Abib Mart                                   </td></tr>\n",
              "\t<tr><td>Business Expenses                                        </td><td>1</td><td>Ghania Traders                                        </td></tr>\n",
              "\t<tr><td>Cashier Access to Reports                                </td><td>1</td><td>Lok Virsa                                             </td></tr>\n",
              "\t<tr><td>Change in Customer Creation Form                         </td><td>1</td><td>Aromaish                                              </td></tr>\n",
              "\t<tr><td>Configurable Time for Order Cancellation                 </td><td>1</td><td>Mozarella 24/7                                        </td></tr>\n",
              "\t<tr><td>Hardware purchased which is faulty and needs to be fixed.</td><td>1</td><td>Mansehra Steel                                        </td></tr>\n",
              "\t<tr><td>Inventory Performance                                    </td><td>1</td><td>Abib Mart                                             </td></tr>\n",
              "\t<tr><td>LOV for Order Cancellation                               </td><td>1</td><td>Mozarella 24/7                                        </td></tr>\n",
              "\t<tr><td>Mock Website                                             </td><td>1</td><td>Mozarella 24/7                                        </td></tr>\n",
              "\t<tr><td>No requirements                                          </td><td>1</td><td>Haji Iftikhar                                         </td></tr>\n",
              "\t<tr><td>Non-Saleable Item                                        </td><td>1</td><td>ShikarPuri Bakers                                     </td></tr>\n",
              "\t<tr><td>ODMS Integration                                         </td><td>1</td><td>NewYorker                                             </td></tr>\n",
              "\t<tr><td>OnBoarding in progress                                   </td><td>1</td><td>Haji Iftikhar                                         </td></tr>\n",
              "\t<tr><td>Order Management                                         </td><td>1</td><td>Ghania Traders                                        </td></tr>\n",
              "\t<tr><td>Product Variants                                         </td><td>1</td><td>Ghania Traders                                        </td></tr>\n",
              "\t<tr><td>Receipts                                                 </td><td>2</td><td>Aromaish, Rembrandts                                  </td></tr>\n",
              "\t<tr><td>Recipe Management                                        </td><td>3</td><td>ShikarPuri Bakers, NewYorker, Ghania Traders          </td></tr>\n",
              "\t<tr><td>Reflect Delivery Charges in Sales Report                 </td><td>1</td><td>Aromaish                                              </td></tr>\n",
              "\t<tr><td>Sale based on Product Weight                             </td><td>1</td><td>ShikarPuri Bakers                                     </td></tr>\n",
              "\t<tr><td>Scoping exercise in progress                             </td><td>1</td><td>Radiant Group                                         </td></tr>\n",
              "\t<tr><td>Stock Issuance + Multi Branch                            </td><td>2</td><td>ShikarPuri Bakers, NewYorker                          </td></tr>\n",
              "\t<tr><td>Weighing Scale Integration                               </td><td>3</td><td>Muhammadi Store, ShikarPuri Bakers, Karachi Murgh Shop</td></tr>\n",
              "</tbody>\n",
              "</table>\n"
            ]
          },
          "metadata": {
            "tags": []
          }
        }
      ]
    },
    {
      "cell_type": "code",
      "metadata": {
        "id": "e4vWGM1AznnS"
      },
      "source": [
        "df_2 %>% \n",
        "    separate_rows(Comment, sep = \",\\\\s\") %>% \n",
        "    group_by(Comment) %>% \n",
        "    summarise(customer_count = n(),\n",
        "              customer_name = paste(unique(Customer), collapse = \", \")) %>%\n",
        "    drop_na(Comment) -> df_3"
      ],
      "execution_count": 12,
      "outputs": []
    },
    {
      "cell_type": "code",
      "metadata": {
        "id": "FLVzOHWutRNS"
      },
      "source": [
        "df_3 %>%\n",
        "     arrange(desc(customer_count)) -> df_3"
      ],
      "execution_count": 17,
      "outputs": []
    },
    {
      "cell_type": "code",
      "metadata": {
        "id": "erJKtv8ivJk3"
      },
      "source": [
        "df_3 %>%\n",
        "    rename('Requirement' = 'Comment',\n",
        "           'Count' = 'customer_count', \n",
        "           'Customers' = 'customer_name') -> df_3"
      ],
      "execution_count": 21,
      "outputs": []
    },
    {
      "cell_type": "code",
      "metadata": {
        "id": "Q57rrSw9zRr-"
      },
      "source": [
        "write_csv(df_3,'output.csv')"
      ],
      "execution_count": 22,
      "outputs": []
    },
    {
      "cell_type": "code",
      "metadata": {
        "id": "hVuve1Llzxru"
      },
      "source": [
        ""
      ],
      "execution_count": null,
      "outputs": []
    }
  ]
}