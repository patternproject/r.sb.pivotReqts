{
  "nbformat": 4,
  "nbformat_minor": 0,
  "metadata": {
    "colab": {
      "name": "v 0 1.ipynb",
      "provenance": []
    },
    "kernelspec": {
      "name": "ir",
      "display_name": "R"
    },
    "language_info": {
      "name": "R"
    }
  },
  "cells": [
    {
      "cell_type": "markdown",
      "metadata": {
        "id": "sBlbxI_ui0jm"
      },
      "source": [
        "# Read Me\n",
        "\n",
        "## At SB we are collecting requirements coming in from each customer. The requirements prioritization process requires knowing how many customers are asking for each\n",
        "\n",
        "## This code does a kind-of-pivot\n",
        "\n",
        "## See here for details and reference\n",
        "\n",
        "### https://community.rstudio.com/t/pivot-or-separate/111225/4"
      ]
    },
    {
      "cell_type": "code",
      "metadata": {
        "colab": {
          "base_uri": "https://localhost:8080/"
        },
        "id": "h_d4rX-Ayt1u",
        "outputId": "f7706b05-9ec6-4310-f77d-6d66a53a69ce"
      },
      "source": [
        "library(tidyverse)"
      ],
      "execution_count": 1,
      "outputs": [
        {
          "output_type": "stream",
          "text": [
            "Warning message in system(\"timedatectl\", intern = TRUE):\n",
            "“running command 'timedatectl' had status 1”\n",
            "── \u001b[1mAttaching packages\u001b[22m ─────────────────────────────────────── tidyverse 1.3.1 ──\n",
            "\n",
            "\u001b[32m✔\u001b[39m \u001b[34mggplot2\u001b[39m 3.3.5     \u001b[32m✔\u001b[39m \u001b[34mpurrr  \u001b[39m 0.3.4\n",
            "\u001b[32m✔\u001b[39m \u001b[34mtibble \u001b[39m 3.1.2     \u001b[32m✔\u001b[39m \u001b[34mdplyr  \u001b[39m 1.0.7\n",
            "\u001b[32m✔\u001b[39m \u001b[34mtidyr  \u001b[39m 1.1.3     \u001b[32m✔\u001b[39m \u001b[34mstringr\u001b[39m 1.4.0\n",
            "\u001b[32m✔\u001b[39m \u001b[34mreadr  \u001b[39m 1.4.0     \u001b[32m✔\u001b[39m \u001b[34mforcats\u001b[39m 0.5.1\n",
            "\n",
            "── \u001b[1mConflicts\u001b[22m ────────────────────────────────────────── tidyverse_conflicts() ──\n",
            "\u001b[31m✖\u001b[39m \u001b[34mdplyr\u001b[39m::\u001b[32mfilter()\u001b[39m masks \u001b[34mstats\u001b[39m::filter()\n",
            "\u001b[31m✖\u001b[39m \u001b[34mdplyr\u001b[39m::\u001b[32mlag()\u001b[39m    masks \u001b[34mstats\u001b[39m::lag()\n",
            "\n"
          ],
          "name": "stderr"
        }
      ]
    },
    {
      "cell_type": "code",
      "metadata": {
        "colab": {
          "base_uri": "https://localhost:8080/"
        },
        "id": "sMHPNxrTy9yO",
        "outputId": "01841620-62c3-4127-efb7-3c685e47d263"
      },
      "source": [
        "df_1 = read_csv('/content/OKR - 2021 Q2 - v 2 6 1-Features.csv',col_names = TRUE)"
      ],
      "execution_count": 2,
      "outputs": [
        {
          "output_type": "stream",
          "text": [
            "\n",
            "\u001b[36m──\u001b[39m \u001b[1m\u001b[1mColumn specification\u001b[1m\u001b[22m \u001b[36m────────────────────────────────────────────────────────\u001b[39m\n",
            "cols(\n",
            "  Status = \u001b[31mcol_character()\u001b[39m,\n",
            "  Customer = \u001b[31mcol_character()\u001b[39m,\n",
            "  POS = \u001b[31mcol_character()\u001b[39m,\n",
            "  LOC = \u001b[31mcol_character()\u001b[39m,\n",
            "  COMMENTS = \u001b[31mcol_character()\u001b[39m\n",
            ")\n",
            "\n",
            "\n"
          ],
          "name": "stderr"
        }
      ]
    },
    {
      "cell_type": "code",
      "metadata": {
        "id": "9oXwYE-YzD9G"
      },
      "source": [
        "df_1 %>% select(Customer,COMMENTS) -> df_2"
      ],
      "execution_count": 3,
      "outputs": []
    },
    {
      "cell_type": "code",
      "metadata": {
        "colab": {
          "base_uri": "https://localhost:8080/",
          "height": 282
        },
        "id": "a6PtSYkzzJc2",
        "outputId": "7b729256-27c5-4ba4-b6c6-b8acd23278ba"
      },
      "source": [
        "head(df_2)"
      ],
      "execution_count": 4,
      "outputs": [
        {
          "output_type": "display_data",
          "data": {
            "text/plain": [
              "  Customer       \n",
              "1 Aromaish       \n",
              "2 Rembrandts     \n",
              "3 Lok Virsa      \n",
              "4 Abib Mart      \n",
              "5 Haji Iftikhar  \n",
              "6 Muhammadi Store\n",
              "  COMMENTS                                                                                  \n",
              "1 Receipts, Change in Customer Creation Form, Reflect Delivery Charges in Sales Report, Bugs\n",
              "2 Receipts, API Change, Barcode Printing                                                    \n",
              "3 Receipts, Offline Shift Mgmt, Commission Report                                           \n",
              "4 Inventory Performance, Bugs                                                               \n",
              "5 NA                                                                                        \n",
              "6 Barcode Printing                                                                          "
            ],
            "text/latex": "A tibble: 6 × 2\n\\begin{tabular}{ll}\n Customer & COMMENTS\\\\\n <chr> & <chr>\\\\\n\\hline\n\t Aromaish        & Receipts, Change in Customer Creation Form, Reflect Delivery Charges in Sales Report, Bugs\\\\\n\t Rembrandts      & Receipts, API Change, Barcode Printing                                                    \\\\\n\t Lok Virsa       & Receipts, Offline Shift Mgmt, Commission Report                                           \\\\\n\t Abib Mart       & Inventory Performance, Bugs                                                               \\\\\n\t Haji Iftikhar   & NA                                                                                        \\\\\n\t Muhammadi Store & Barcode Printing                                                                          \\\\\n\\end{tabular}\n",
            "text/markdown": "\nA tibble: 6 × 2\n\n| Customer &lt;chr&gt; | COMMENTS &lt;chr&gt; |\n|---|---|\n| Aromaish        | Receipts, Change in Customer Creation Form, Reflect Delivery Charges in Sales Report, Bugs |\n| Rembrandts      | Receipts, API Change, Barcode Printing                                                     |\n| Lok Virsa       | Receipts, Offline Shift Mgmt, Commission Report                                            |\n| Abib Mart       | Inventory Performance, Bugs                                                                |\n| Haji Iftikhar   | NA                                                                                         |\n| Muhammadi Store | Barcode Printing                                                                           |\n\n",
            "text/html": [
              "<table class=\"dataframe\">\n",
              "<caption>A tibble: 6 × 2</caption>\n",
              "<thead>\n",
              "\t<tr><th scope=col>Customer</th><th scope=col>COMMENTS</th></tr>\n",
              "\t<tr><th scope=col>&lt;chr&gt;</th><th scope=col>&lt;chr&gt;</th></tr>\n",
              "</thead>\n",
              "<tbody>\n",
              "\t<tr><td>Aromaish       </td><td>Receipts, Change in Customer Creation Form, Reflect Delivery Charges in Sales Report, Bugs</td></tr>\n",
              "\t<tr><td>Rembrandts     </td><td>Receipts, API Change, Barcode Printing                                                    </td></tr>\n",
              "\t<tr><td>Lok Virsa      </td><td>Receipts, Offline Shift Mgmt, Commission Report                                           </td></tr>\n",
              "\t<tr><td>Abib Mart      </td><td>Inventory Performance, Bugs                                                               </td></tr>\n",
              "\t<tr><td>Haji Iftikhar  </td><td>NA                                                                                        </td></tr>\n",
              "\t<tr><td>Muhammadi Store</td><td>Barcode Printing                                                                          </td></tr>\n",
              "</tbody>\n",
              "</table>\n"
            ]
          },
          "metadata": {
            "tags": []
          }
        }
      ]
    },
    {
      "cell_type": "code",
      "metadata": {
        "colab": {
          "base_uri": "https://localhost:8080/",
          "height": 747
        },
        "id": "yQVkeFzjzLNO",
        "outputId": "3cc28358-3fba-4103-b42a-69df9b175d4b"
      },
      "source": [
        "df_2 %>%  separate_rows(COMMENTS, sep = \",\\\\s\") %>% count(COMMENTS, name = \"customer_count\") "
      ],
      "execution_count": 5,
      "outputs": [
        {
          "output_type": "display_data",
          "data": {
            "text/plain": [
              "   COMMENTS                                 customer_count\n",
              "1  API Change                               1             \n",
              "2  Barcode Printing                         2             \n",
              "3  Bugs                                     2             \n",
              "4  Business Expenses                        1             \n",
              "5  Change in Customer Creation Form         1             \n",
              "6  Commission Report                        1             \n",
              "7  Configurable Time for Order Cancellation 1             \n",
              "8  Inventory Performance                    1             \n",
              "9  LOV for Order Cancellation               1             \n",
              "10 Mock Website                             1             \n",
              "11 Non-Saleable Item                        1             \n",
              "12 Offline Shift Mgmt                       1             \n",
              "13 Order Management                         1             \n",
              "14 Product Variants                         1             \n",
              "15 Receipts                                 3             \n",
              "16 Recipe Management                        3             \n",
              "17 Reflect Delivery Charges in Sales Report 1             \n",
              "18 Sale based on Product Weight             1             \n",
              "19 Stock Issuance + Multi Branch            2             \n",
              "20 Weighing Scale Integration               1             \n",
              "21 NA                                       8             "
            ],
            "text/latex": "A tibble: 21 × 2\n\\begin{tabular}{ll}\n COMMENTS & customer\\_count\\\\\n <chr> & <int>\\\\\n\\hline\n\t API Change                               & 1\\\\\n\t Barcode Printing                         & 2\\\\\n\t Bugs                                     & 2\\\\\n\t Business Expenses                        & 1\\\\\n\t Change in Customer Creation Form         & 1\\\\\n\t Commission Report                        & 1\\\\\n\t Configurable Time for Order Cancellation & 1\\\\\n\t Inventory Performance                    & 1\\\\\n\t LOV for Order Cancellation               & 1\\\\\n\t Mock Website                             & 1\\\\\n\t Non-Saleable Item                        & 1\\\\\n\t Offline Shift Mgmt                       & 1\\\\\n\t Order Management                         & 1\\\\\n\t Product Variants                         & 1\\\\\n\t Receipts                                 & 3\\\\\n\t Recipe Management                        & 3\\\\\n\t Reflect Delivery Charges in Sales Report & 1\\\\\n\t Sale based on Product Weight             & 1\\\\\n\t Stock Issuance + Multi Branch            & 2\\\\\n\t Weighing Scale Integration               & 1\\\\\n\t NA                                       & 8\\\\\n\\end{tabular}\n",
            "text/markdown": "\nA tibble: 21 × 2\n\n| COMMENTS &lt;chr&gt; | customer_count &lt;int&gt; |\n|---|---|\n| API Change                               | 1 |\n| Barcode Printing                         | 2 |\n| Bugs                                     | 2 |\n| Business Expenses                        | 1 |\n| Change in Customer Creation Form         | 1 |\n| Commission Report                        | 1 |\n| Configurable Time for Order Cancellation | 1 |\n| Inventory Performance                    | 1 |\n| LOV for Order Cancellation               | 1 |\n| Mock Website                             | 1 |\n| Non-Saleable Item                        | 1 |\n| Offline Shift Mgmt                       | 1 |\n| Order Management                         | 1 |\n| Product Variants                         | 1 |\n| Receipts                                 | 3 |\n| Recipe Management                        | 3 |\n| Reflect Delivery Charges in Sales Report | 1 |\n| Sale based on Product Weight             | 1 |\n| Stock Issuance + Multi Branch            | 2 |\n| Weighing Scale Integration               | 1 |\n| NA                                       | 8 |\n\n",
            "text/html": [
              "<table class=\"dataframe\">\n",
              "<caption>A tibble: 21 × 2</caption>\n",
              "<thead>\n",
              "\t<tr><th scope=col>COMMENTS</th><th scope=col>customer_count</th></tr>\n",
              "\t<tr><th scope=col>&lt;chr&gt;</th><th scope=col>&lt;int&gt;</th></tr>\n",
              "</thead>\n",
              "<tbody>\n",
              "\t<tr><td>API Change                              </td><td>1</td></tr>\n",
              "\t<tr><td>Barcode Printing                        </td><td>2</td></tr>\n",
              "\t<tr><td>Bugs                                    </td><td>2</td></tr>\n",
              "\t<tr><td>Business Expenses                       </td><td>1</td></tr>\n",
              "\t<tr><td>Change in Customer Creation Form        </td><td>1</td></tr>\n",
              "\t<tr><td>Commission Report                       </td><td>1</td></tr>\n",
              "\t<tr><td>Configurable Time for Order Cancellation</td><td>1</td></tr>\n",
              "\t<tr><td>Inventory Performance                   </td><td>1</td></tr>\n",
              "\t<tr><td>LOV for Order Cancellation              </td><td>1</td></tr>\n",
              "\t<tr><td>Mock Website                            </td><td>1</td></tr>\n",
              "\t<tr><td>Non-Saleable Item                       </td><td>1</td></tr>\n",
              "\t<tr><td>Offline Shift Mgmt                      </td><td>1</td></tr>\n",
              "\t<tr><td>Order Management                        </td><td>1</td></tr>\n",
              "\t<tr><td>Product Variants                        </td><td>1</td></tr>\n",
              "\t<tr><td>Receipts                                </td><td>3</td></tr>\n",
              "\t<tr><td>Recipe Management                       </td><td>3</td></tr>\n",
              "\t<tr><td>Reflect Delivery Charges in Sales Report</td><td>1</td></tr>\n",
              "\t<tr><td>Sale based on Product Weight            </td><td>1</td></tr>\n",
              "\t<tr><td>Stock Issuance + Multi Branch           </td><td>2</td></tr>\n",
              "\t<tr><td>Weighing Scale Integration              </td><td>1</td></tr>\n",
              "\t<tr><td>NA                                      </td><td>8</td></tr>\n",
              "</tbody>\n",
              "</table>\n"
            ]
          },
          "metadata": {
            "tags": []
          }
        }
      ]
    },
    {
      "cell_type": "code",
      "metadata": {
        "id": "e4vWGM1AznnS"
      },
      "source": [
        ""
      ],
      "execution_count": 6,
      "outputs": []
    },
    {
      "cell_type": "code",
      "metadata": {
        "colab": {
          "base_uri": "https://localhost:8080/",
          "height": 202
        },
        "id": "Q57rrSw9zRr-",
        "outputId": "a6bac8c3-921f-4fbb-e5cf-36880fe87297"
      },
      "source": [
        "write_csv(df_3,'output')"
      ],
      "execution_count": 7,
      "outputs": [
        {
          "output_type": "error",
          "ename": "ERROR",
          "evalue": "ignored",
          "traceback": [
            "Error in is.data.frame(x): object 'df_3' not found\nTraceback:\n",
            "1. write_csv(df_3, \"output\")",
            "2. write_delim(x, file, delim = \",\", na = na, append = append, col_names = col_names, \n .     quote_escape = quote_escape, eol = eol)",
            "3. stopifnot(is.data.frame(x))",
            "4. is.data.frame(x)"
          ]
        }
      ]
    },
    {
      "cell_type": "code",
      "metadata": {
        "id": "hVuve1Llzxru"
      },
      "source": [
        ""
      ],
      "execution_count": null,
      "outputs": []
    }
  ]
}